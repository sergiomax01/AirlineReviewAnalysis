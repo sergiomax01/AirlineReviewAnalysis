{
 "cells": [
  {
   "cell_type": "code",
   "execution_count": 1,
   "id": "d8851f15",
   "metadata": {},
   "outputs": [],
   "source": [
    "import pandas as pd\n",
    "from sklearn.linear_model import LinearRegression"
   ]
  },
  {
   "cell_type": "code",
   "execution_count": 2,
   "id": "9f5d83c2",
   "metadata": {},
   "outputs": [
    {
     "name": "stdout",
     "output_type": "stream",
     "text": [
      "0 R2 = 0.649138785023083 significant feature Route          Route_Belfast to Budapest via Heathrow 6566359101790.475\n",
      "1 R2 = 0.7426267470211902 significant feature Seat_Types          Seat_Types_3 131094329607.47461\n",
      "2 R2 = 0.7410511413189724 significant feature Type_of_Travellers          Type_of_Travellers_3 79780764861.69612\n",
      "3 R2 = 0.739926772401734 significant feature Aircraft Type          Aircraft Type_Boeing 787 Dreamliner 5706569278.209909\n",
      "4 R2 = 0.7149488000405428 significant feature Date Flown          Date Flown_Jul-20 -54597941431.15899\n"
     ]
    }
   ],
   "source": [
    "df=pd.read_csv('./Airlines Reviews And Rating.csv')\n",
    "df=df.fillna(3)\n",
    "s=\"Users Reviews\"\n",
    "for i in range(5):\n",
    "    df=df.drop([s],axis=1)\n",
    "\n",
    "    df2=pd.get_dummies(df).drop('Recommended_no',axis=1)\n",
    "    X = df2.drop(['Recommended_yes'], axis=1)\n",
    "    y = df2.Recommended_yes\n",
    "\n",
    "    X_number=X.select_dtypes(include='number')\n",
    "    X_number=(X_number-X_number.mean())/X_number.std()\n",
    "    X_categorical=X.select_dtypes(exclude='number')\n",
    "    X_categorical=pd.get_dummies(X_categorical)\n",
    "    X=pd.concat([X_number,X_categorical],axis=1)\n",
    "    model = LinearRegression()\n",
    "    model.fit(X,y)\n",
    "    R2 = model.score(X, y)\n",
    "    coeffs1=pd.Series(model.coef_,X.columns)\n",
    "    coeffs=abs(coeffs1)\n",
    "    s=coeffs.idxmax()[:coeffs.idxmax().rfind(\"_\")]\n",
    "    print(i,\"R2 =\",R2,\"significant feature\",s,\"        \",coeffs.idxmax(),coeffs1[coeffs.idxmax()])\n",
    "    "
   ]
  },
  {
   "cell_type": "code",
   "execution_count": 3,
   "id": "b8185a18",
   "metadata": {},
   "outputs": [
    {
     "name": "stdout",
     "output_type": "stream",
     "text": [
      "0 R2 = 0.8680657524428333 significant feature Seat_Types_First Class          Seat_Types_First Class -210793318935.78894\n",
      "1 R2 = 0.8680779465397674 significant feature Type_of_Travellers_Business          Type_of_Travellers_Business -603786541645.2263\n",
      "2 R2 = 0.8680787788700419 significant feature Route_Bangkok to Heathrow          Route_Bangkok to Heathrow 168904305895.9086\n",
      "3 R2 = 0.8680787015985694 significant feature Aircraft Type_A319 / A380 / Boeing 737          Aircraft Type_A319 / A380 / Boeing 737 -172522057437.93103\n",
      "4 R2 = 0.8680787115847736 significant feature Date Flown_Sep-14          Date Flown_Sep-14 -122466744595.5714\n"
     ]
    }
   ],
   "source": [
    "df=pd.read_csv('./Airlines Reviews And Rating.csv')\n",
    "df=df.fillna(0)\n",
    "s=\"Users Reviews\"\n",
    "df=df.drop(s,axis=1)\n",
    "df=pd.get_dummies(df).drop('Recommended_no',axis=1)\n",
    "for i in range(5):\n",
    "\n",
    "    \n",
    "    X = df.drop(['Recommended_yes'], axis=1)\n",
    "    y = df.Recommended_yes\n",
    "\n",
    "    X_number=X.select_dtypes(include='number')\n",
    "    X_number=(X_number-X_number.mean())/X_number.std()\n",
    "    X_categorical=X.select_dtypes(exclude='number')\n",
    "    X_categorical=pd.get_dummies(X_categorical)\n",
    "    X=pd.concat([X_number,X_categorical],axis=1)\n",
    "    model = LinearRegression()\n",
    "    model.fit(X,y)\n",
    "    R2 = model.score(X, y)\n",
    "    coeffs1=pd.Series(model.coef_,X.columns)\n",
    "    coeffs=abs(coeffs1)\n",
    "    s=coeffs.idxmax()\n",
    "    print(i,\"R2 =\",R2,\"significant feature\",s,\"        \",coeffs.idxmax(),coeffs1[coeffs.idxmax()])\n",
    "    df=df.drop(s,axis=1)\n",
    "    "
   ]
  },
  {
   "cell_type": "code",
   "execution_count": 4,
   "id": "23dd344c",
   "metadata": {},
   "outputs": [],
   "source": [
    "df=pd.read_csv('./Airlines Reviews And Rating.csv')\n",
    "df=df.drop(\"Users Reviews\",axis=1)\n",
    "df=df.fillna(3)\n",
    "df=pd.get_dummies(df).drop('Recommended_no',axis=1)\n",
    "\n",
    "\n",
    "n_samples = 100\n",
    "lr = LinearRegression()\n",
    "cols = df.drop('Recommended_yes',axis=1).columns\n",
    "coef = pd.DataFrame(index=cols,columns=range(n_samples))\n",
    "for k in range(n_samples):\n",
    "    df_b = df.sample(frac=1.0,replace=True)\n",
    "    X = df_b.drop('Recommended_yes',axis=1)\n",
    "    y = df_b.Recommended_yes\n",
    "    lr.fit(X,y)\n",
    "    coef.iloc[:,k] = lr.coef_"
   ]
  },
  {
   "cell_type": "code",
   "execution_count": 5,
   "id": "63b4af6d",
   "metadata": {},
   "outputs": [
    {
     "data": {
      "text/html": [
       "<div>\n",
       "<style scoped>\n",
       "    .dataframe tbody tr th:only-of-type {\n",
       "        vertical-align: middle;\n",
       "    }\n",
       "\n",
       "    .dataframe tbody tr th {\n",
       "        vertical-align: top;\n",
       "    }\n",
       "\n",
       "    .dataframe thead th {\n",
       "        text-align: right;\n",
       "    }\n",
       "</style>\n",
       "<table border=\"1\" class=\"dataframe\">\n",
       "  <thead>\n",
       "    <tr style=\"text-align: right;\">\n",
       "      <th></th>\n",
       "      <th>0.25</th>\n",
       "      <th>0.50</th>\n",
       "      <th>0.75</th>\n",
       "    </tr>\n",
       "  </thead>\n",
       "  <tbody>\n",
       "    <tr>\n",
       "      <th>Seat Comfort</th>\n",
       "      <td>0.03671</td>\n",
       "      <td>0.042243</td>\n",
       "      <td>0.047931</td>\n",
       "    </tr>\n",
       "    <tr>\n",
       "      <th>Cabin Staff Service</th>\n",
       "      <td>0.03898</td>\n",
       "      <td>0.044924</td>\n",
       "      <td>0.048767</td>\n",
       "    </tr>\n",
       "    <tr>\n",
       "      <th>Ground Service</th>\n",
       "      <td>0.020629</td>\n",
       "      <td>0.025963</td>\n",
       "      <td>0.032433</td>\n",
       "    </tr>\n",
       "    <tr>\n",
       "      <th>Food &amp; Beverages</th>\n",
       "      <td>0.059496</td>\n",
       "      <td>0.065816</td>\n",
       "      <td>0.070717</td>\n",
       "    </tr>\n",
       "    <tr>\n",
       "      <th>Wifi &amp; Connectivity</th>\n",
       "      <td>-0.01395</td>\n",
       "      <td>-0.006163</td>\n",
       "      <td>0.006141</td>\n",
       "    </tr>\n",
       "    <tr>\n",
       "      <th>...</th>\n",
       "      <td>...</td>\n",
       "      <td>...</td>\n",
       "      <td>...</td>\n",
       "    </tr>\n",
       "    <tr>\n",
       "      <th>Date Flown_Sep-19</th>\n",
       "      <td>-593979381.563969</td>\n",
       "      <td>-4460356.382648</td>\n",
       "      <td>530412741.79911</td>\n",
       "    </tr>\n",
       "    <tr>\n",
       "      <th>Date Flown_Sep-20</th>\n",
       "      <td>-406012595.355929</td>\n",
       "      <td>-0.023594</td>\n",
       "      <td>251929061.000736</td>\n",
       "    </tr>\n",
       "    <tr>\n",
       "      <th>Date Flown_Sep-21</th>\n",
       "      <td>-593979381.537454</td>\n",
       "      <td>-0.107654</td>\n",
       "      <td>530412741.777152</td>\n",
       "    </tr>\n",
       "    <tr>\n",
       "      <th>Date Flown_Sep-22</th>\n",
       "      <td>-593979381.405878</td>\n",
       "      <td>-4460356.152125</td>\n",
       "      <td>530412741.997486</td>\n",
       "    </tr>\n",
       "    <tr>\n",
       "      <th>Date Flown_Sep-23</th>\n",
       "      <td>-593979381.346071</td>\n",
       "      <td>-4460356.315908</td>\n",
       "      <td>530412741.922647</td>\n",
       "    </tr>\n",
       "  </tbody>\n",
       "</table>\n",
       "<p>1972 rows × 3 columns</p>\n",
       "</div>"
      ],
      "text/plain": [
       "                                 0.25            0.50              0.75\n",
       "Seat Comfort                  0.03671        0.042243          0.047931\n",
       "Cabin Staff Service           0.03898        0.044924          0.048767\n",
       "Ground Service               0.020629        0.025963          0.032433\n",
       "Food & Beverages             0.059496        0.065816          0.070717\n",
       "Wifi & Connectivity          -0.01395       -0.006163          0.006141\n",
       "...                               ...             ...               ...\n",
       "Date Flown_Sep-19   -593979381.563969 -4460356.382648   530412741.79911\n",
       "Date Flown_Sep-20   -406012595.355929       -0.023594  251929061.000736\n",
       "Date Flown_Sep-21   -593979381.537454       -0.107654  530412741.777152\n",
       "Date Flown_Sep-22   -593979381.405878 -4460356.152125  530412741.997486\n",
       "Date Flown_Sep-23   -593979381.346071 -4460356.315908  530412741.922647\n",
       "\n",
       "[1972 rows x 3 columns]"
      ]
     },
     "execution_count": 5,
     "metadata": {},
     "output_type": "execute_result"
    }
   ],
   "source": [
    "q=coef.quantile([0.25,0.5,0.75],axis=1).T.round(3)\n",
    "q"
   ]
  },
  {
   "cell_type": "code",
   "execution_count": 6,
   "id": "27e1d14b",
   "metadata": {},
   "outputs": [
    {
     "name": "stdout",
     "output_type": "stream",
     "text": [
      "number of features that are clearly related to the  6\n",
      "['Seat Comfort', 'Cabin Staff Service', 'Ground Service', 'Food & Beverages', 'Inflight Entertainment', 'Value For Money']\n"
     ]
    }
   ],
   "source": [
    "import numpy as np\n",
    "l=np.array(q)\n",
    "a=l[:,0]*l[:,2]>0\n",
    "print(\"number of features that are clearly related to the \",np.sum(a))\n",
    "print(list(q.index[a]))"
   ]
  },
  {
   "cell_type": "code",
   "execution_count": null,
   "id": "1e66dde6",
   "metadata": {},
   "outputs": [],
   "source": []
  }
 ],
 "metadata": {
  "kernelspec": {
   "display_name": "Python 3 (ipykernel)",
   "language": "python",
   "name": "python3"
  },
  "language_info": {
   "codemirror_mode": {
    "name": "ipython",
    "version": 3
   },
   "file_extension": ".py",
   "mimetype": "text/x-python",
   "name": "python",
   "nbconvert_exporter": "python",
   "pygments_lexer": "ipython3",
   "version": "3.11.9"
  }
 },
 "nbformat": 4,
 "nbformat_minor": 5
}
